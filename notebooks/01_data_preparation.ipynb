{
 "cells": [
  {
   "cell_type": "markdown",
   "id": "8dfb58fd-c42c-4a96-a2e7-cf026841463b",
   "metadata": {},
   "source": [
    "## Step 1 — Data Loading and Initial Inspection\n",
    "**Objective:**  \n",
    "Load the two raw CSV files (`Fake.csv` and `True.csv`), check their structure, confirm consistent column names, and identify missing or malformed entries.  \n",
    "This step ensures data integrity before merging and labeling in the following phase."
   ]
  },
  {
   "cell_type": "markdown",
   "id": "c96ac0b7-a770-4cef-a8b2-16622a54afae",
   "metadata": {},
   "source": [
    "### Data Loading"
   ]
  },
  {
   "cell_type": "code",
   "execution_count": 3,
   "id": "6ca32598-050d-461c-8a9a-36fe2754891c",
   "metadata": {},
   "outputs": [],
   "source": [
    "import pandas as pd\n",
    "import os\n",
    "\n",
    "# Define dataset directory and file paths\n",
    "DATA_DIR = \"/Users/erenburakgokpinar/Documents/b198project/datasets\"\n",
    "FAKE_PATH = os.path.join(DATA_DIR, \"Fake.csv\")\n",
    "TRUE_PATH = os.path.join(DATA_DIR, \"True.csv\")\n",
    "\n",
    "# Function to safely load CSV with consistent column formatting\n",
    "def safe_read_csv(path):\n",
    "    df = pd.read_csv(\n",
    "        path,\n",
    "        dtype=str,              # Read all columns as strings to avoid dtype conflicts\n",
    "        encoding=\"utf-8\",\n",
    "        on_bad_lines=\"skip\"     # Skip problematic lines gracefully\n",
    "    )\n",
    "    df.columns = [c.strip().lower() for c in df.columns]  # Normalize column names\n",
    "    return df\n",
    "\n",
    "# Load both datasets\n",
    "fake = safe_read_csv(FAKE_PATH)\n",
    "true = safe_read_csv(TRUE_PATH)"
   ]
  },
  {
   "cell_type": "markdown",
   "id": "329c339c-bed0-453f-ba2e-048d20aae238",
   "metadata": {},
   "source": [
    "### Dataset Overview\n",
    "Now we inspect both datasets to confirm their dimensions, column names, and a few example rows.  \n",
    "This step also highlights missing or null values that need to be addressed before merging."
   ]
  },
  {
   "cell_type": "code",
   "execution_count": 4,
   "id": "3db1a9b5-c691-4925-a235-b05cdafc9dc5",
   "metadata": {},
   "outputs": [
    {
     "name": "stdout",
     "output_type": "stream",
     "text": [
      "Fake.csv shape: (23481, 4)\n",
      "True.csv shape: (21417, 4)\n",
      "\n",
      "Fake.csv columns: ['title', 'text', 'subject', 'date']\n",
      "True.csv columns: ['title', 'text', 'subject', 'date']\n",
      "\n",
      "--- Fake.csv (first 3 rows) ---\n",
      "                                               title  \\\n",
      "0   Donald Trump Sends Out Embarrassing New Year’...   \n",
      "1   Drunk Bragging Trump Staffer Started Russian ...   \n",
      "2   Sheriff David Clarke Becomes An Internet Joke...   \n",
      "\n",
      "                                                text subject  \\\n",
      "0  Donald Trump just couldn t wish all Americans ...    News   \n",
      "1  House Intelligence Committee Chairman Devin Nu...    News   \n",
      "2  On Friday, it was revealed that former Milwauk...    News   \n",
      "\n",
      "                date  \n",
      "0  December 31, 2017  \n",
      "1  December 31, 2017  \n",
      "2  December 30, 2017  \n",
      "\n",
      "--- True.csv (first 3 rows) ---\n",
      "                                               title  \\\n",
      "0  As U.S. budget fight looms, Republicans flip t...   \n",
      "1  U.S. military to accept transgender recruits o...   \n",
      "2  Senior U.S. Republican senator: 'Let Mr. Muell...   \n",
      "\n",
      "                                                text       subject  \\\n",
      "0  WASHINGTON (Reuters) - The head of a conservat...  politicsNews   \n",
      "1  WASHINGTON (Reuters) - Transgender people will...  politicsNews   \n",
      "2  WASHINGTON (Reuters) - The special counsel inv...  politicsNews   \n",
      "\n",
      "                 date  \n",
      "0  December 31, 2017   \n",
      "1  December 29, 2017   \n",
      "2  December 31, 2017   \n",
      "\n",
      "Missing values per column (Fake):\n",
      "title      0\n",
      "text       0\n",
      "subject    0\n",
      "date       0\n",
      "dtype: int64\n",
      "\n",
      "Missing values per column (True):\n",
      "title      0\n",
      "text       0\n",
      "subject    0\n",
      "date       0\n",
      "dtype: int64\n"
     ]
    }
   ],
   "source": [
    "# Display basic structure information\n",
    "print(\"Fake.csv shape:\", fake.shape)\n",
    "print(\"True.csv shape:\", true.shape)\n",
    "print(\"\\nFake.csv columns:\", fake.columns.tolist())\n",
    "print(\"True.csv columns:\", true.columns.tolist())\n",
    "\n",
    "# Preview first few entries\n",
    "print(\"\\n--- Fake.csv (first 3 rows) ---\")\n",
    "print(fake.head(3))\n",
    "print(\"\\n--- True.csv (first 3 rows) ---\")\n",
    "print(true.head(3))\n",
    "\n",
    "# Check for missing values\n",
    "print(\"\\nMissing values per column (Fake):\")\n",
    "print(fake.isna().sum())\n",
    "print(\"\\nMissing values per column (True):\")\n",
    "print(true.isna().sum())"
   ]
  },
  {
   "cell_type": "markdown",
   "id": "e6435392-b2ad-472c-ba88-ac0250c517d4",
   "metadata": {},
   "source": [
    "## Step 2 — Labeling and Merging\n",
    "\n",
    "**Objective:**  \n",
    "Assign binary labels to both source datasets (`0` = Fake, `1` = Real`) and combine them into a single unified DataFrame.  \n",
    "This consolidated dataset will form the foundation for all upcoming preprocessing and model training tasks."
   ]
  },
  {
   "cell_type": "markdown",
   "id": "6419ff1f-f676-467b-95ae-866bc27053ea",
   "metadata": {},
   "source": [
    "### Labeling and Merging"
   ]
  },
  {
   "cell_type": "code",
   "execution_count": 5,
   "id": "f17c73df-80e7-4ce7-9593-0f228a1cd1f5",
   "metadata": {},
   "outputs": [
    {
     "name": "stdout",
     "output_type": "stream",
     "text": [
      "Combined dataset shape: (44898, 5)\n",
      "\n",
      "Columns: ['title', 'text', 'subject', 'date', 'label']\n",
      "\n",
      "Label distribution:\n",
      " label\n",
      "0    0.523\n",
      "1    0.477\n",
      "Name: proportion, dtype: float64\n"
     ]
    },
    {
     "data": {
      "text/html": [
       "<div>\n",
       "<style scoped>\n",
       "    .dataframe tbody tr th:only-of-type {\n",
       "        vertical-align: middle;\n",
       "    }\n",
       "\n",
       "    .dataframe tbody tr th {\n",
       "        vertical-align: top;\n",
       "    }\n",
       "\n",
       "    .dataframe thead th {\n",
       "        text-align: right;\n",
       "    }\n",
       "</style>\n",
       "<table border=\"1\" class=\"dataframe\">\n",
       "  <thead>\n",
       "    <tr style=\"text-align: right;\">\n",
       "      <th></th>\n",
       "      <th>title</th>\n",
       "      <th>text</th>\n",
       "      <th>subject</th>\n",
       "      <th>date</th>\n",
       "      <th>label</th>\n",
       "    </tr>\n",
       "  </thead>\n",
       "  <tbody>\n",
       "    <tr>\n",
       "      <th>0</th>\n",
       "      <td>Ben Stein Calls Out 9th Circuit Court: Committ...</td>\n",
       "      <td>21st Century Wire says Ben Stein, reputable pr...</td>\n",
       "      <td>US_News</td>\n",
       "      <td>February 13, 2017</td>\n",
       "      <td>0</td>\n",
       "    </tr>\n",
       "    <tr>\n",
       "      <th>1</th>\n",
       "      <td>Trump drops Steve Bannon from National Securit...</td>\n",
       "      <td>WASHINGTON (Reuters) - U.S. President Donald T...</td>\n",
       "      <td>politicsNews</td>\n",
       "      <td>April 5, 2017</td>\n",
       "      <td>1</td>\n",
       "    </tr>\n",
       "    <tr>\n",
       "      <th>2</th>\n",
       "      <td>Puerto Rico expects U.S. to lift Jones Act shi...</td>\n",
       "      <td>(Reuters) - Puerto Rico Governor Ricardo Rosse...</td>\n",
       "      <td>politicsNews</td>\n",
       "      <td>September 27, 2017</td>\n",
       "      <td>1</td>\n",
       "    </tr>\n",
       "  </tbody>\n",
       "</table>\n",
       "</div>"
      ],
      "text/plain": [
       "                                               title  \\\n",
       "0  Ben Stein Calls Out 9th Circuit Court: Committ...   \n",
       "1  Trump drops Steve Bannon from National Securit...   \n",
       "2  Puerto Rico expects U.S. to lift Jones Act shi...   \n",
       "\n",
       "                                                text       subject  \\\n",
       "0  21st Century Wire says Ben Stein, reputable pr...       US_News   \n",
       "1  WASHINGTON (Reuters) - U.S. President Donald T...  politicsNews   \n",
       "2  (Reuters) - Puerto Rico Governor Ricardo Rosse...  politicsNews   \n",
       "\n",
       "                  date  label  \n",
       "0    February 13, 2017      0  \n",
       "1       April 5, 2017       1  \n",
       "2  September 27, 2017       1  "
      ]
     },
     "execution_count": 5,
     "metadata": {},
     "output_type": "execute_result"
    }
   ],
   "source": [
    "import pandas as pd\n",
    "\n",
    "# Assign binary labels\n",
    "fake[\"label\"] = 0   # 0 = Fake news\n",
    "true[\"label\"] = 1   # 1 = Real news\n",
    "\n",
    "# Merge and shuffle the datasets\n",
    "df = pd.concat([fake, true], ignore_index=True)\n",
    "df = df.sample(frac=1, random_state=42).reset_index(drop=True)\n",
    "\n",
    "# Display basic information\n",
    "print(\"Combined dataset shape:\", df.shape)\n",
    "print(\"\\nColumns:\", df.columns.tolist())\n",
    "\n",
    "# Label distribution\n",
    "label_dist = df[\"label\"].value_counts(normalize=True).round(3)\n",
    "print(\"\\nLabel distribution:\\n\", label_dist)\n",
    "\n",
    "# Quick sanity check\n",
    "df.head(3)"
   ]
  },
  {
   "cell_type": "markdown",
   "id": "7bedaa27-cfaf-482b-a776-7bf4186588c3",
   "metadata": {},
   "source": [
    "## Step 3 — Data Cleaning and Normalization\n",
    "\n",
    "**Objective:**  \n",
    "Clean and normalize the combined dataset to remove noise, duplicated content, and irrelevant text patterns.  \n",
    "This step ensures consistent formatting and prepares the text data for vectorization or transformer tokenization."
   ]
  },
  {
   "cell_type": "markdown",
   "id": "9dcd8cf9-c0cb-467f-b3ab-c1b4540b8e6a",
   "metadata": {},
   "source": [
    "### Cleaning"
   ]
  },
  {
   "cell_type": "code",
   "execution_count": 6,
   "id": "5bfce758-32e5-47c4-8250-fd5ddea250ca",
   "metadata": {},
   "outputs": [
    {
     "name": "stdout",
     "output_type": "stream",
     "text": [
      "Removed 6252 duplicate rows.\n",
      "Removed 144 short texts.\n",
      "\n",
      "Cleaned dataset shape: (38502, 6)\n",
      "   label                                            content\n",
      "0      0  Ben Stein Calls Out 9th Circuit Court Committe...\n",
      "1      1  Trump drops Steve Bannon from National Securit...\n",
      "2      1  Puerto Rico expects U.S. to lift Jones Act shi...\n"
     ]
    }
   ],
   "source": [
    "import re\n",
    "\n",
    "# Drop duplicates based on text content\n",
    "before_dups = df.shape[0]\n",
    "df = df.drop_duplicates(subset=[\"text\"])\n",
    "after_dups = df.shape[0]\n",
    "print(f\"Removed {before_dups - after_dups} duplicate rows.\")\n",
    "\n",
    "# Remove rows with extremely short text (<50 characters)\n",
    "before_short = df.shape[0]\n",
    "df = df[df[\"text\"].str.len() > 50]\n",
    "after_short = df.shape[0]\n",
    "print(f\"Removed {before_short - after_short} short texts.\")\n",
    "\n",
    "# Normalize whitespace and remove URLs or special symbols\n",
    "def clean_text(text):\n",
    "    if pd.isna(text):\n",
    "        return \"\"\n",
    "    text = re.sub(r\"http\\S+\", \"\", text)           # remove URLs\n",
    "    text = re.sub(r\"[^A-Za-z0-9.,!?'\\s]\", \" \", text)  # remove special chars\n",
    "    text = re.sub(r\"\\s+\", \" \", text).strip()      # normalize spaces\n",
    "    return text\n",
    "\n",
    "df[\"title\"] = df[\"title\"].apply(clean_text)\n",
    "df[\"text\"] = df[\"text\"].apply(clean_text)\n",
    "\n",
    "# Combine title and text for future modeling\n",
    "df[\"content\"] = df[\"title\"] + \" \" + df[\"text\"]\n",
    "\n",
    "# Final structure overview\n",
    "print(\"\\nCleaned dataset shape:\", df.shape)\n",
    "print(df[[\"label\", \"content\"]].head(3))"
   ]
  },
  {
   "cell_type": "markdown",
   "id": "d4d902cf-1ba1-432b-a663-6cdc064c1a9b",
   "metadata": {},
   "source": [
    "### Text Normalization"
   ]
  },
  {
   "cell_type": "code",
   "execution_count": 7,
   "id": "60357ffc-893f-42cf-91ce-faf8feee30c9",
   "metadata": {},
   "outputs": [
    {
     "data": {
      "text/html": [
       "<div>\n",
       "<style scoped>\n",
       "    .dataframe tbody tr th:only-of-type {\n",
       "        vertical-align: middle;\n",
       "    }\n",
       "\n",
       "    .dataframe tbody tr th {\n",
       "        vertical-align: top;\n",
       "    }\n",
       "\n",
       "    .dataframe thead th {\n",
       "        text-align: right;\n",
       "    }\n",
       "</style>\n",
       "<table border=\"1\" class=\"dataframe\">\n",
       "  <thead>\n",
       "    <tr style=\"text-align: right;\">\n",
       "      <th></th>\n",
       "      <th>label</th>\n",
       "      <th>content</th>\n",
       "    </tr>\n",
       "  </thead>\n",
       "  <tbody>\n",
       "    <tr>\n",
       "      <th>0</th>\n",
       "      <td>0</td>\n",
       "      <td>Ben Stein Calls Out 9th Circuit Court Committe...</td>\n",
       "    </tr>\n",
       "    <tr>\n",
       "      <th>1</th>\n",
       "      <td>1</td>\n",
       "      <td>Trump drops Steve Bannon from National Securit...</td>\n",
       "    </tr>\n",
       "    <tr>\n",
       "      <th>2</th>\n",
       "      <td>1</td>\n",
       "      <td>Puerto Rico expects U.S. to lift Jones Act shi...</td>\n",
       "    </tr>\n",
       "  </tbody>\n",
       "</table>\n",
       "</div>"
      ],
      "text/plain": [
       "   label                                            content\n",
       "0      0  Ben Stein Calls Out 9th Circuit Court Committe...\n",
       "1      1  Trump drops Steve Bannon from National Securit...\n",
       "2      1  Puerto Rico expects U.S. to lift Jones Act shi..."
      ]
     },
     "execution_count": 7,
     "metadata": {},
     "output_type": "execute_result"
    }
   ],
   "source": [
    "import re\n",
    "\n",
    "# Define text cleaning function\n",
    "def clean_text(text):\n",
    "    if pd.isna(text):\n",
    "        return \"\"\n",
    "    text = re.sub(r\"http\\S+\", \"\", text)                 # remove URLs\n",
    "    text = re.sub(r\"[^A-Za-z0-9.,!?'\\s]\", \" \", text)    # remove special characters\n",
    "    text = re.sub(r\"\\s+\", \" \", text).strip()            # normalize spaces\n",
    "    return text\n",
    "\n",
    "# Apply to both title and text columns\n",
    "df[\"title\"] = df[\"title\"].apply(clean_text)\n",
    "df[\"text\"] = df[\"text\"].apply(clean_text)\n",
    "\n",
    "# Combine title and text into a new column for modeling\n",
    "df[\"content\"] = df[\"title\"] + \" \" + df[\"text\"]\n",
    "\n",
    "# Preview cleaned content\n",
    "df[[\"label\", \"content\"]].head(3)"
   ]
  },
  {
   "cell_type": "markdown",
   "id": "874c57f6-bdf1-47dd-98e3-b19d0e4a8a2a",
   "metadata": {},
   "source": [
    "### Final Dataset Verification\n",
    "\n",
    "Before moving on to modeling, verify the final structure, column names, and total record count.  \n",
    "This ensures the dataset is consistent, balanced, and ready to be split into training and test sets."
   ]
  },
  {
   "cell_type": "code",
   "execution_count": 8,
   "id": "fcee09d7-7f2f-4f56-bdec-622edaf5065b",
   "metadata": {},
   "outputs": [
    {
     "name": "stdout",
     "output_type": "stream",
     "text": [
      "Final dataset shape: (38502, 6)\n",
      "\n",
      "Columns: ['title', 'text', 'subject', 'date', 'label', 'content']\n",
      "\n",
      "Label distribution:\n",
      "label\n",
      "1    0.55\n",
      "0    0.45\n",
      "Name: proportion, dtype: float64\n",
      "\n",
      "Missing values per column:\n",
      "title      0\n",
      "text       0\n",
      "subject    0\n",
      "date       0\n",
      "label      0\n",
      "content    0\n",
      "dtype: int64\n"
     ]
    },
    {
     "data": {
      "text/html": [
       "<div>\n",
       "<style scoped>\n",
       "    .dataframe tbody tr th:only-of-type {\n",
       "        vertical-align: middle;\n",
       "    }\n",
       "\n",
       "    .dataframe tbody tr th {\n",
       "        vertical-align: top;\n",
       "    }\n",
       "\n",
       "    .dataframe thead th {\n",
       "        text-align: right;\n",
       "    }\n",
       "</style>\n",
       "<table border=\"1\" class=\"dataframe\">\n",
       "  <thead>\n",
       "    <tr style=\"text-align: right;\">\n",
       "      <th></th>\n",
       "      <th>label</th>\n",
       "      <th>content</th>\n",
       "    </tr>\n",
       "  </thead>\n",
       "  <tbody>\n",
       "    <tr>\n",
       "      <th>4796</th>\n",
       "      <td>0</td>\n",
       "      <td>THIS LL MAKE YOUR DAY THE CHALKENING Continues...</td>\n",
       "    </tr>\n",
       "    <tr>\n",
       "      <th>18400</th>\n",
       "      <td>0</td>\n",
       "      <td>POWERFUL! FORMERLY OPPRESSED EX MUSLIM WARNS I...</td>\n",
       "    </tr>\n",
       "    <tr>\n",
       "      <th>34062</th>\n",
       "      <td>0</td>\n",
       "      <td>American Medical Association Says GOP s Make A...</td>\n",
       "    </tr>\n",
       "  </tbody>\n",
       "</table>\n",
       "</div>"
      ],
      "text/plain": [
       "       label                                            content\n",
       "4796       0  THIS LL MAKE YOUR DAY THE CHALKENING Continues...\n",
       "18400      0  POWERFUL! FORMERLY OPPRESSED EX MUSLIM WARNS I...\n",
       "34062      0  American Medical Association Says GOP s Make A..."
      ]
     },
     "execution_count": 8,
     "metadata": {},
     "output_type": "execute_result"
    }
   ],
   "source": [
    "# Final structure overview\n",
    "print(\"Final dataset shape:\", df.shape)\n",
    "print(\"\\nColumns:\", df.columns.tolist())\n",
    "\n",
    "# Check label balance again\n",
    "print(\"\\nLabel distribution:\")\n",
    "print(df[\"label\"].value_counts(normalize=True).round(3))\n",
    "\n",
    "# Sanity check for missing values\n",
    "print(\"\\nMissing values per column:\")\n",
    "print(df.isna().sum())\n",
    "\n",
    "# Optional: preview random sample\n",
    "df.sample(3, random_state=42)[[\"label\", \"content\"]]"
   ]
  },
  {
   "cell_type": "code",
   "execution_count": 9,
   "id": "dc7db415-d88d-4797-a68c-ba9f416d5dab",
   "metadata": {},
   "outputs": [
    {
     "name": "stdout",
     "output_type": "stream",
     "text": [
      "✅ Cleaned dataset saved successfully at: ../data/processed/cleaned_combined.csv\n",
      "Final shape: (38502, 6)\n"
     ]
    }
   ],
   "source": [
    "## Save cleaned dataset\n",
    "\n",
    "import os\n",
    "\n",
    "output_dir = \"../data/processed\"\n",
    "os.makedirs(output_dir, exist_ok=True)\n",
    "output_path = os.path.join(output_dir, \"cleaned_combined.csv\")\n",
    "\n",
    "df.to_csv(output_path, index=False, encoding=\"utf-8\")\n",
    "print(f\"✅ Cleaned dataset saved successfully at: {output_path}\")\n",
    "print(f\"Final shape: {df.shape}\")"
   ]
  }
 ],
 "metadata": {
  "kernelspec": {
   "display_name": "Python 3.11 (spacy)",
   "language": "python",
   "name": "python311"
  },
  "language_info": {
   "codemirror_mode": {
    "name": "ipython",
    "version": 3
   },
   "file_extension": ".py",
   "mimetype": "text/x-python",
   "name": "python",
   "nbconvert_exporter": "python",
   "pygments_lexer": "ipython3",
   "version": "3.11.13"
  }
 },
 "nbformat": 4,
 "nbformat_minor": 5
}
